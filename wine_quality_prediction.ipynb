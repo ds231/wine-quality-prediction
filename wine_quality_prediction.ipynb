{
 "cells": [
  {
   "cell_type": "code",
   "execution_count": 87,
   "id": "6f33c101-1707-4614-bc8a-4f8f42eea98f",
   "metadata": {
    "execution": {
     "iopub.execute_input": "2025-06-16T15:33:53.908331Z",
     "iopub.status.busy": "2025-06-16T15:33:53.907882Z",
     "iopub.status.idle": "2025-06-16T15:33:53.916595Z",
     "shell.execute_reply": "2025-06-16T15:33:53.915898Z",
     "shell.execute_reply.started": "2025-06-16T15:33:53.908303Z"
    }
   },
   "outputs": [
    {
     "name": "stdout",
     "output_type": "stream",
     "text": [
      "1.3.0\n"
     ]
    }
   ],
   "source": [
    "import pandas as pd\n",
    "import seaborn as sns\n",
    "import matplotlib.pyplot as plt\n",
    "import sklearn\n",
    "print(sklearn.__version__)\n",
    "from sklearn.ensemble import RandomForestClassifier \n",
    "from sklearn.svm import SVC\n",
    "from sklearn import svm\n",
    "from sklearn.neural_network import MLPClassifier\n",
    "#from sklearn. Linear_model import SGDClassifier\n",
    "from sklearn.metrics import confusion_matrix, classification_report\n",
    "from sklearn.preprocessing import StandardScaler, LabelEncoder\n",
    "from sklearn.model_selection import train_test_split\n",
    "%matplotlib inline"
   ]
  },
  {
   "cell_type": "code",
   "execution_count": 88,
   "id": "09d8a363-285e-4208-be24-62f0c85e9119",
   "metadata": {
    "execution": {
     "iopub.execute_input": "2025-06-16T15:33:54.313041Z",
     "iopub.status.busy": "2025-06-16T15:33:54.312616Z",
     "iopub.status.idle": "2025-06-16T15:33:54.321901Z",
     "shell.execute_reply": "2025-06-16T15:33:54.321309Z",
     "shell.execute_reply.started": "2025-06-16T15:33:54.313006Z"
    }
   },
   "outputs": [],
   "source": [
    "wine= pd.read_csv('WineQT.csv')"
   ]
  },
  {
   "cell_type": "code",
   "execution_count": 89,
   "id": "d41af9c8-9a13-441f-bf27-964268991413",
   "metadata": {
    "execution": {
     "iopub.execute_input": "2025-06-16T15:33:54.545972Z",
     "iopub.status.busy": "2025-06-16T15:33:54.545678Z",
     "iopub.status.idle": "2025-06-16T15:33:54.562983Z",
     "shell.execute_reply": "2025-06-16T15:33:54.562371Z",
     "shell.execute_reply.started": "2025-06-16T15:33:54.545945Z"
    }
   },
   "outputs": [
    {
     "data": {
      "text/html": [
       "<div>\n",
       "<style scoped>\n",
       "    .dataframe tbody tr th:only-of-type {\n",
       "        vertical-align: middle;\n",
       "    }\n",
       "\n",
       "    .dataframe tbody tr th {\n",
       "        vertical-align: top;\n",
       "    }\n",
       "\n",
       "    .dataframe thead th {\n",
       "        text-align: right;\n",
       "    }\n",
       "</style>\n",
       "<table border=\"1\" class=\"dataframe\">\n",
       "  <thead>\n",
       "    <tr style=\"text-align: right;\">\n",
       "      <th></th>\n",
       "      <th>fixed acidity</th>\n",
       "      <th>volatile acidity</th>\n",
       "      <th>citric acid</th>\n",
       "      <th>residual sugar</th>\n",
       "      <th>chlorides</th>\n",
       "      <th>free sulfur dioxide</th>\n",
       "      <th>total sulfur dioxide</th>\n",
       "      <th>density</th>\n",
       "      <th>pH</th>\n",
       "      <th>sulphates</th>\n",
       "      <th>alcohol</th>\n",
       "      <th>quality</th>\n",
       "      <th>Id</th>\n",
       "    </tr>\n",
       "  </thead>\n",
       "  <tbody>\n",
       "    <tr>\n",
       "      <th>0</th>\n",
       "      <td>7.4</td>\n",
       "      <td>0.70</td>\n",
       "      <td>0.00</td>\n",
       "      <td>1.9</td>\n",
       "      <td>0.076</td>\n",
       "      <td>11.0</td>\n",
       "      <td>34.0</td>\n",
       "      <td>0.9978</td>\n",
       "      <td>3.51</td>\n",
       "      <td>0.56</td>\n",
       "      <td>9.4</td>\n",
       "      <td>5</td>\n",
       "      <td>0</td>\n",
       "    </tr>\n",
       "    <tr>\n",
       "      <th>1</th>\n",
       "      <td>7.8</td>\n",
       "      <td>0.88</td>\n",
       "      <td>0.00</td>\n",
       "      <td>2.6</td>\n",
       "      <td>0.098</td>\n",
       "      <td>25.0</td>\n",
       "      <td>67.0</td>\n",
       "      <td>0.9968</td>\n",
       "      <td>3.20</td>\n",
       "      <td>0.68</td>\n",
       "      <td>9.8</td>\n",
       "      <td>5</td>\n",
       "      <td>1</td>\n",
       "    </tr>\n",
       "    <tr>\n",
       "      <th>2</th>\n",
       "      <td>7.8</td>\n",
       "      <td>0.76</td>\n",
       "      <td>0.04</td>\n",
       "      <td>2.3</td>\n",
       "      <td>0.092</td>\n",
       "      <td>15.0</td>\n",
       "      <td>54.0</td>\n",
       "      <td>0.9970</td>\n",
       "      <td>3.26</td>\n",
       "      <td>0.65</td>\n",
       "      <td>9.8</td>\n",
       "      <td>5</td>\n",
       "      <td>2</td>\n",
       "    </tr>\n",
       "    <tr>\n",
       "      <th>3</th>\n",
       "      <td>11.2</td>\n",
       "      <td>0.28</td>\n",
       "      <td>0.56</td>\n",
       "      <td>1.9</td>\n",
       "      <td>0.075</td>\n",
       "      <td>17.0</td>\n",
       "      <td>60.0</td>\n",
       "      <td>0.9980</td>\n",
       "      <td>3.16</td>\n",
       "      <td>0.58</td>\n",
       "      <td>9.8</td>\n",
       "      <td>6</td>\n",
       "      <td>3</td>\n",
       "    </tr>\n",
       "    <tr>\n",
       "      <th>4</th>\n",
       "      <td>7.4</td>\n",
       "      <td>0.70</td>\n",
       "      <td>0.00</td>\n",
       "      <td>1.9</td>\n",
       "      <td>0.076</td>\n",
       "      <td>11.0</td>\n",
       "      <td>34.0</td>\n",
       "      <td>0.9978</td>\n",
       "      <td>3.51</td>\n",
       "      <td>0.56</td>\n",
       "      <td>9.4</td>\n",
       "      <td>5</td>\n",
       "      <td>4</td>\n",
       "    </tr>\n",
       "    <tr>\n",
       "      <th>5</th>\n",
       "      <td>7.4</td>\n",
       "      <td>0.66</td>\n",
       "      <td>0.00</td>\n",
       "      <td>1.8</td>\n",
       "      <td>0.075</td>\n",
       "      <td>13.0</td>\n",
       "      <td>40.0</td>\n",
       "      <td>0.9978</td>\n",
       "      <td>3.51</td>\n",
       "      <td>0.56</td>\n",
       "      <td>9.4</td>\n",
       "      <td>5</td>\n",
       "      <td>5</td>\n",
       "    </tr>\n",
       "    <tr>\n",
       "      <th>6</th>\n",
       "      <td>7.9</td>\n",
       "      <td>0.60</td>\n",
       "      <td>0.06</td>\n",
       "      <td>1.6</td>\n",
       "      <td>0.069</td>\n",
       "      <td>15.0</td>\n",
       "      <td>59.0</td>\n",
       "      <td>0.9964</td>\n",
       "      <td>3.30</td>\n",
       "      <td>0.46</td>\n",
       "      <td>9.4</td>\n",
       "      <td>5</td>\n",
       "      <td>6</td>\n",
       "    </tr>\n",
       "    <tr>\n",
       "      <th>7</th>\n",
       "      <td>7.3</td>\n",
       "      <td>0.65</td>\n",
       "      <td>0.00</td>\n",
       "      <td>1.2</td>\n",
       "      <td>0.065</td>\n",
       "      <td>15.0</td>\n",
       "      <td>21.0</td>\n",
       "      <td>0.9946</td>\n",
       "      <td>3.39</td>\n",
       "      <td>0.47</td>\n",
       "      <td>10.0</td>\n",
       "      <td>7</td>\n",
       "      <td>7</td>\n",
       "    </tr>\n",
       "    <tr>\n",
       "      <th>8</th>\n",
       "      <td>7.8</td>\n",
       "      <td>0.58</td>\n",
       "      <td>0.02</td>\n",
       "      <td>2.0</td>\n",
       "      <td>0.073</td>\n",
       "      <td>9.0</td>\n",
       "      <td>18.0</td>\n",
       "      <td>0.9968</td>\n",
       "      <td>3.36</td>\n",
       "      <td>0.57</td>\n",
       "      <td>9.5</td>\n",
       "      <td>7</td>\n",
       "      <td>8</td>\n",
       "    </tr>\n",
       "    <tr>\n",
       "      <th>9</th>\n",
       "      <td>6.7</td>\n",
       "      <td>0.58</td>\n",
       "      <td>0.08</td>\n",
       "      <td>1.8</td>\n",
       "      <td>0.097</td>\n",
       "      <td>15.0</td>\n",
       "      <td>65.0</td>\n",
       "      <td>0.9959</td>\n",
       "      <td>3.28</td>\n",
       "      <td>0.54</td>\n",
       "      <td>9.2</td>\n",
       "      <td>5</td>\n",
       "      <td>10</td>\n",
       "    </tr>\n",
       "  </tbody>\n",
       "</table>\n",
       "</div>"
      ],
      "text/plain": [
       "   fixed acidity  volatile acidity  citric acid  residual sugar  chlorides  \\\n",
       "0            7.4              0.70         0.00             1.9      0.076   \n",
       "1            7.8              0.88         0.00             2.6      0.098   \n",
       "2            7.8              0.76         0.04             2.3      0.092   \n",
       "3           11.2              0.28         0.56             1.9      0.075   \n",
       "4            7.4              0.70         0.00             1.9      0.076   \n",
       "5            7.4              0.66         0.00             1.8      0.075   \n",
       "6            7.9              0.60         0.06             1.6      0.069   \n",
       "7            7.3              0.65         0.00             1.2      0.065   \n",
       "8            7.8              0.58         0.02             2.0      0.073   \n",
       "9            6.7              0.58         0.08             1.8      0.097   \n",
       "\n",
       "   free sulfur dioxide  total sulfur dioxide  density    pH  sulphates  \\\n",
       "0                 11.0                  34.0   0.9978  3.51       0.56   \n",
       "1                 25.0                  67.0   0.9968  3.20       0.68   \n",
       "2                 15.0                  54.0   0.9970  3.26       0.65   \n",
       "3                 17.0                  60.0   0.9980  3.16       0.58   \n",
       "4                 11.0                  34.0   0.9978  3.51       0.56   \n",
       "5                 13.0                  40.0   0.9978  3.51       0.56   \n",
       "6                 15.0                  59.0   0.9964  3.30       0.46   \n",
       "7                 15.0                  21.0   0.9946  3.39       0.47   \n",
       "8                  9.0                  18.0   0.9968  3.36       0.57   \n",
       "9                 15.0                  65.0   0.9959  3.28       0.54   \n",
       "\n",
       "   alcohol  quality  Id  \n",
       "0      9.4        5   0  \n",
       "1      9.8        5   1  \n",
       "2      9.8        5   2  \n",
       "3      9.8        6   3  \n",
       "4      9.4        5   4  \n",
       "5      9.4        5   5  \n",
       "6      9.4        5   6  \n",
       "7     10.0        7   7  \n",
       "8      9.5        7   8  \n",
       "9      9.2        5  10  "
      ]
     },
     "execution_count": 89,
     "metadata": {},
     "output_type": "execute_result"
    }
   ],
   "source": [
    "wine.head(10)"
   ]
  },
  {
   "cell_type": "code",
   "execution_count": 90,
   "id": "e4e5109b-3b6e-4f47-ae36-95d33c5874eb",
   "metadata": {
    "execution": {
     "iopub.execute_input": "2025-06-16T15:33:54.716956Z",
     "iopub.status.busy": "2025-06-16T15:33:54.716723Z",
     "iopub.status.idle": "2025-06-16T15:33:54.725837Z",
     "shell.execute_reply": "2025-06-16T15:33:54.725293Z",
     "shell.execute_reply.started": "2025-06-16T15:33:54.716940Z"
    }
   },
   "outputs": [
    {
     "name": "stdout",
     "output_type": "stream",
     "text": [
      "<class 'pandas.core.frame.DataFrame'>\n",
      "RangeIndex: 1143 entries, 0 to 1142\n",
      "Data columns (total 13 columns):\n",
      " #   Column                Non-Null Count  Dtype  \n",
      "---  ------                --------------  -----  \n",
      " 0   fixed acidity         1143 non-null   float64\n",
      " 1   volatile acidity      1143 non-null   float64\n",
      " 2   citric acid           1143 non-null   float64\n",
      " 3   residual sugar        1143 non-null   float64\n",
      " 4   chlorides             1143 non-null   float64\n",
      " 5   free sulfur dioxide   1143 non-null   float64\n",
      " 6   total sulfur dioxide  1143 non-null   float64\n",
      " 7   density               1143 non-null   float64\n",
      " 8   pH                    1143 non-null   float64\n",
      " 9   sulphates             1143 non-null   float64\n",
      " 10  alcohol               1143 non-null   float64\n",
      " 11  quality               1143 non-null   int64  \n",
      " 12  Id                    1143 non-null   int64  \n",
      "dtypes: float64(11), int64(2)\n",
      "memory usage: 116.2 KB\n"
     ]
    }
   ],
   "source": [
    "wine.info()"
   ]
  },
  {
   "cell_type": "code",
   "execution_count": 91,
   "id": "171df71f-6a41-4df2-a88a-711bfa2e6287",
   "metadata": {
    "execution": {
     "iopub.execute_input": "2025-06-16T15:33:54.883382Z",
     "iopub.status.busy": "2025-06-16T15:33:54.883026Z",
     "iopub.status.idle": "2025-06-16T15:33:54.889706Z",
     "shell.execute_reply": "2025-06-16T15:33:54.889142Z",
     "shell.execute_reply.started": "2025-06-16T15:33:54.883335Z"
    }
   },
   "outputs": [
    {
     "data": {
      "text/plain": [
       "fixed acidity           0\n",
       "volatile acidity        0\n",
       "citric acid             0\n",
       "residual sugar          0\n",
       "chlorides               0\n",
       "free sulfur dioxide     0\n",
       "total sulfur dioxide    0\n",
       "density                 0\n",
       "pH                      0\n",
       "sulphates               0\n",
       "alcohol                 0\n",
       "quality                 0\n",
       "Id                      0\n",
       "dtype: int64"
      ]
     },
     "execution_count": 91,
     "metadata": {},
     "output_type": "execute_result"
    }
   ],
   "source": [
    "wine.isnull().sum()"
   ]
  },
  {
   "cell_type": "code",
   "execution_count": 92,
   "id": "ae216fa8-71c6-434e-92df-5ccb3ecd2d1c",
   "metadata": {
    "execution": {
     "iopub.execute_input": "2025-06-16T15:33:54.953224Z",
     "iopub.status.busy": "2025-06-16T15:33:54.952984Z",
     "iopub.status.idle": "2025-06-16T15:33:54.958679Z",
     "shell.execute_reply": "2025-06-16T15:33:54.958092Z",
     "shell.execute_reply.started": "2025-06-16T15:33:54.953206Z"
    }
   },
   "outputs": [],
   "source": [
    "#preprocessing data\n",
    "\n",
    "bins=(2,6.5,8)\n",
    "group_names=['bad','good']\n",
    "wine['quality']= pd.cut(wine['quality'], bins= bins, labels=group_names)"
   ]
  },
  {
   "cell_type": "code",
   "execution_count": 93,
   "id": "61f18088-b9c3-427d-a5ec-601b79415e38",
   "metadata": {
    "execution": {
     "iopub.execute_input": "2025-06-16T15:33:55.171755Z",
     "iopub.status.busy": "2025-06-16T15:33:55.171499Z",
     "iopub.status.idle": "2025-06-16T15:33:55.186744Z",
     "shell.execute_reply": "2025-06-16T15:33:55.186136Z",
     "shell.execute_reply.started": "2025-06-16T15:33:55.171736Z"
    }
   },
   "outputs": [
    {
     "data": {
      "text/html": [
       "<div>\n",
       "<style scoped>\n",
       "    .dataframe tbody tr th:only-of-type {\n",
       "        vertical-align: middle;\n",
       "    }\n",
       "\n",
       "    .dataframe tbody tr th {\n",
       "        vertical-align: top;\n",
       "    }\n",
       "\n",
       "    .dataframe thead th {\n",
       "        text-align: right;\n",
       "    }\n",
       "</style>\n",
       "<table border=\"1\" class=\"dataframe\">\n",
       "  <thead>\n",
       "    <tr style=\"text-align: right;\">\n",
       "      <th></th>\n",
       "      <th>fixed acidity</th>\n",
       "      <th>volatile acidity</th>\n",
       "      <th>citric acid</th>\n",
       "      <th>residual sugar</th>\n",
       "      <th>chlorides</th>\n",
       "      <th>free sulfur dioxide</th>\n",
       "      <th>total sulfur dioxide</th>\n",
       "      <th>density</th>\n",
       "      <th>pH</th>\n",
       "      <th>sulphates</th>\n",
       "      <th>alcohol</th>\n",
       "      <th>quality</th>\n",
       "      <th>Id</th>\n",
       "    </tr>\n",
       "  </thead>\n",
       "  <tbody>\n",
       "    <tr>\n",
       "      <th>0</th>\n",
       "      <td>7.4</td>\n",
       "      <td>0.70</td>\n",
       "      <td>0.00</td>\n",
       "      <td>1.9</td>\n",
       "      <td>0.076</td>\n",
       "      <td>11.0</td>\n",
       "      <td>34.0</td>\n",
       "      <td>0.9978</td>\n",
       "      <td>3.51</td>\n",
       "      <td>0.56</td>\n",
       "      <td>9.4</td>\n",
       "      <td>bad</td>\n",
       "      <td>0</td>\n",
       "    </tr>\n",
       "    <tr>\n",
       "      <th>1</th>\n",
       "      <td>7.8</td>\n",
       "      <td>0.88</td>\n",
       "      <td>0.00</td>\n",
       "      <td>2.6</td>\n",
       "      <td>0.098</td>\n",
       "      <td>25.0</td>\n",
       "      <td>67.0</td>\n",
       "      <td>0.9968</td>\n",
       "      <td>3.20</td>\n",
       "      <td>0.68</td>\n",
       "      <td>9.8</td>\n",
       "      <td>bad</td>\n",
       "      <td>1</td>\n",
       "    </tr>\n",
       "    <tr>\n",
       "      <th>2</th>\n",
       "      <td>7.8</td>\n",
       "      <td>0.76</td>\n",
       "      <td>0.04</td>\n",
       "      <td>2.3</td>\n",
       "      <td>0.092</td>\n",
       "      <td>15.0</td>\n",
       "      <td>54.0</td>\n",
       "      <td>0.9970</td>\n",
       "      <td>3.26</td>\n",
       "      <td>0.65</td>\n",
       "      <td>9.8</td>\n",
       "      <td>bad</td>\n",
       "      <td>2</td>\n",
       "    </tr>\n",
       "    <tr>\n",
       "      <th>3</th>\n",
       "      <td>11.2</td>\n",
       "      <td>0.28</td>\n",
       "      <td>0.56</td>\n",
       "      <td>1.9</td>\n",
       "      <td>0.075</td>\n",
       "      <td>17.0</td>\n",
       "      <td>60.0</td>\n",
       "      <td>0.9980</td>\n",
       "      <td>3.16</td>\n",
       "      <td>0.58</td>\n",
       "      <td>9.8</td>\n",
       "      <td>bad</td>\n",
       "      <td>3</td>\n",
       "    </tr>\n",
       "    <tr>\n",
       "      <th>4</th>\n",
       "      <td>7.4</td>\n",
       "      <td>0.70</td>\n",
       "      <td>0.00</td>\n",
       "      <td>1.9</td>\n",
       "      <td>0.076</td>\n",
       "      <td>11.0</td>\n",
       "      <td>34.0</td>\n",
       "      <td>0.9978</td>\n",
       "      <td>3.51</td>\n",
       "      <td>0.56</td>\n",
       "      <td>9.4</td>\n",
       "      <td>bad</td>\n",
       "      <td>4</td>\n",
       "    </tr>\n",
       "  </tbody>\n",
       "</table>\n",
       "</div>"
      ],
      "text/plain": [
       "   fixed acidity  volatile acidity  citric acid  residual sugar  chlorides  \\\n",
       "0            7.4              0.70         0.00             1.9      0.076   \n",
       "1            7.8              0.88         0.00             2.6      0.098   \n",
       "2            7.8              0.76         0.04             2.3      0.092   \n",
       "3           11.2              0.28         0.56             1.9      0.075   \n",
       "4            7.4              0.70         0.00             1.9      0.076   \n",
       "\n",
       "   free sulfur dioxide  total sulfur dioxide  density    pH  sulphates  \\\n",
       "0                 11.0                  34.0   0.9978  3.51       0.56   \n",
       "1                 25.0                  67.0   0.9968  3.20       0.68   \n",
       "2                 15.0                  54.0   0.9970  3.26       0.65   \n",
       "3                 17.0                  60.0   0.9980  3.16       0.58   \n",
       "4                 11.0                  34.0   0.9978  3.51       0.56   \n",
       "\n",
       "   alcohol quality  Id  \n",
       "0      9.4     bad   0  \n",
       "1      9.8     bad   1  \n",
       "2      9.8     bad   2  \n",
       "3      9.8     bad   3  \n",
       "4      9.4     bad   4  "
      ]
     },
     "execution_count": 93,
     "metadata": {},
     "output_type": "execute_result"
    }
   ],
   "source": [
    "wine.head()"
   ]
  },
  {
   "cell_type": "code",
   "execution_count": 94,
   "id": "32961548-1c8b-485c-87d6-b9f8f68d160c",
   "metadata": {
    "execution": {
     "iopub.execute_input": "2025-06-16T15:33:55.248325Z",
     "iopub.status.busy": "2025-06-16T15:33:55.248031Z",
     "iopub.status.idle": "2025-06-16T15:33:55.251165Z",
     "shell.execute_reply": "2025-06-16T15:33:55.250614Z",
     "shell.execute_reply.started": "2025-06-16T15:33:55.248306Z"
    }
   },
   "outputs": [],
   "source": [
    "label_quality= LabelEncoder()"
   ]
  },
  {
   "cell_type": "code",
   "execution_count": 95,
   "id": "c4f7b388-b8db-4445-8c2b-f8b8a5f6f72e",
   "metadata": {
    "execution": {
     "iopub.execute_input": "2025-06-16T15:33:55.459157Z",
     "iopub.status.busy": "2025-06-16T15:33:55.458818Z",
     "iopub.status.idle": "2025-06-16T15:33:55.463444Z",
     "shell.execute_reply": "2025-06-16T15:33:55.462877Z",
     "shell.execute_reply.started": "2025-06-16T15:33:55.459135Z"
    }
   },
   "outputs": [],
   "source": [
    "wine['quality']= label_quality.fit_transform(wine['quality'])"
   ]
  },
  {
   "cell_type": "code",
   "execution_count": 96,
   "id": "e806cd26-c395-4573-99c8-8a78ba64d919",
   "metadata": {
    "execution": {
     "iopub.execute_input": "2025-06-16T15:33:55.602244Z",
     "iopub.status.busy": "2025-06-16T15:33:55.601965Z",
     "iopub.status.idle": "2025-06-16T15:33:55.628703Z",
     "shell.execute_reply": "2025-06-16T15:33:55.628137Z",
     "shell.execute_reply.started": "2025-06-16T15:33:55.602223Z"
    }
   },
   "outputs": [
    {
     "data": {
      "text/html": [
       "<div>\n",
       "<style scoped>\n",
       "    .dataframe tbody tr th:only-of-type {\n",
       "        vertical-align: middle;\n",
       "    }\n",
       "\n",
       "    .dataframe tbody tr th {\n",
       "        vertical-align: top;\n",
       "    }\n",
       "\n",
       "    .dataframe thead th {\n",
       "        text-align: right;\n",
       "    }\n",
       "</style>\n",
       "<table border=\"1\" class=\"dataframe\">\n",
       "  <thead>\n",
       "    <tr style=\"text-align: right;\">\n",
       "      <th></th>\n",
       "      <th>fixed acidity</th>\n",
       "      <th>volatile acidity</th>\n",
       "      <th>citric acid</th>\n",
       "      <th>residual sugar</th>\n",
       "      <th>chlorides</th>\n",
       "      <th>free sulfur dioxide</th>\n",
       "      <th>total sulfur dioxide</th>\n",
       "      <th>density</th>\n",
       "      <th>pH</th>\n",
       "      <th>sulphates</th>\n",
       "      <th>alcohol</th>\n",
       "      <th>quality</th>\n",
       "      <th>Id</th>\n",
       "    </tr>\n",
       "  </thead>\n",
       "  <tbody>\n",
       "    <tr>\n",
       "      <th>0</th>\n",
       "      <td>7.4</td>\n",
       "      <td>0.700</td>\n",
       "      <td>0.00</td>\n",
       "      <td>1.9</td>\n",
       "      <td>0.076</td>\n",
       "      <td>11.0</td>\n",
       "      <td>34.0</td>\n",
       "      <td>0.9978</td>\n",
       "      <td>3.51</td>\n",
       "      <td>0.56</td>\n",
       "      <td>9.4</td>\n",
       "      <td>0</td>\n",
       "      <td>0</td>\n",
       "    </tr>\n",
       "    <tr>\n",
       "      <th>1</th>\n",
       "      <td>7.8</td>\n",
       "      <td>0.880</td>\n",
       "      <td>0.00</td>\n",
       "      <td>2.6</td>\n",
       "      <td>0.098</td>\n",
       "      <td>25.0</td>\n",
       "      <td>67.0</td>\n",
       "      <td>0.9968</td>\n",
       "      <td>3.20</td>\n",
       "      <td>0.68</td>\n",
       "      <td>9.8</td>\n",
       "      <td>0</td>\n",
       "      <td>1</td>\n",
       "    </tr>\n",
       "    <tr>\n",
       "      <th>2</th>\n",
       "      <td>7.8</td>\n",
       "      <td>0.760</td>\n",
       "      <td>0.04</td>\n",
       "      <td>2.3</td>\n",
       "      <td>0.092</td>\n",
       "      <td>15.0</td>\n",
       "      <td>54.0</td>\n",
       "      <td>0.9970</td>\n",
       "      <td>3.26</td>\n",
       "      <td>0.65</td>\n",
       "      <td>9.8</td>\n",
       "      <td>0</td>\n",
       "      <td>2</td>\n",
       "    </tr>\n",
       "    <tr>\n",
       "      <th>3</th>\n",
       "      <td>11.2</td>\n",
       "      <td>0.280</td>\n",
       "      <td>0.56</td>\n",
       "      <td>1.9</td>\n",
       "      <td>0.075</td>\n",
       "      <td>17.0</td>\n",
       "      <td>60.0</td>\n",
       "      <td>0.9980</td>\n",
       "      <td>3.16</td>\n",
       "      <td>0.58</td>\n",
       "      <td>9.8</td>\n",
       "      <td>0</td>\n",
       "      <td>3</td>\n",
       "    </tr>\n",
       "    <tr>\n",
       "      <th>4</th>\n",
       "      <td>7.4</td>\n",
       "      <td>0.700</td>\n",
       "      <td>0.00</td>\n",
       "      <td>1.9</td>\n",
       "      <td>0.076</td>\n",
       "      <td>11.0</td>\n",
       "      <td>34.0</td>\n",
       "      <td>0.9978</td>\n",
       "      <td>3.51</td>\n",
       "      <td>0.56</td>\n",
       "      <td>9.4</td>\n",
       "      <td>0</td>\n",
       "      <td>4</td>\n",
       "    </tr>\n",
       "    <tr>\n",
       "      <th>5</th>\n",
       "      <td>7.4</td>\n",
       "      <td>0.660</td>\n",
       "      <td>0.00</td>\n",
       "      <td>1.8</td>\n",
       "      <td>0.075</td>\n",
       "      <td>13.0</td>\n",
       "      <td>40.0</td>\n",
       "      <td>0.9978</td>\n",
       "      <td>3.51</td>\n",
       "      <td>0.56</td>\n",
       "      <td>9.4</td>\n",
       "      <td>0</td>\n",
       "      <td>5</td>\n",
       "    </tr>\n",
       "    <tr>\n",
       "      <th>6</th>\n",
       "      <td>7.9</td>\n",
       "      <td>0.600</td>\n",
       "      <td>0.06</td>\n",
       "      <td>1.6</td>\n",
       "      <td>0.069</td>\n",
       "      <td>15.0</td>\n",
       "      <td>59.0</td>\n",
       "      <td>0.9964</td>\n",
       "      <td>3.30</td>\n",
       "      <td>0.46</td>\n",
       "      <td>9.4</td>\n",
       "      <td>0</td>\n",
       "      <td>6</td>\n",
       "    </tr>\n",
       "    <tr>\n",
       "      <th>7</th>\n",
       "      <td>7.3</td>\n",
       "      <td>0.650</td>\n",
       "      <td>0.00</td>\n",
       "      <td>1.2</td>\n",
       "      <td>0.065</td>\n",
       "      <td>15.0</td>\n",
       "      <td>21.0</td>\n",
       "      <td>0.9946</td>\n",
       "      <td>3.39</td>\n",
       "      <td>0.47</td>\n",
       "      <td>10.0</td>\n",
       "      <td>1</td>\n",
       "      <td>7</td>\n",
       "    </tr>\n",
       "    <tr>\n",
       "      <th>8</th>\n",
       "      <td>7.8</td>\n",
       "      <td>0.580</td>\n",
       "      <td>0.02</td>\n",
       "      <td>2.0</td>\n",
       "      <td>0.073</td>\n",
       "      <td>9.0</td>\n",
       "      <td>18.0</td>\n",
       "      <td>0.9968</td>\n",
       "      <td>3.36</td>\n",
       "      <td>0.57</td>\n",
       "      <td>9.5</td>\n",
       "      <td>1</td>\n",
       "      <td>8</td>\n",
       "    </tr>\n",
       "    <tr>\n",
       "      <th>9</th>\n",
       "      <td>6.7</td>\n",
       "      <td>0.580</td>\n",
       "      <td>0.08</td>\n",
       "      <td>1.8</td>\n",
       "      <td>0.097</td>\n",
       "      <td>15.0</td>\n",
       "      <td>65.0</td>\n",
       "      <td>0.9959</td>\n",
       "      <td>3.28</td>\n",
       "      <td>0.54</td>\n",
       "      <td>9.2</td>\n",
       "      <td>0</td>\n",
       "      <td>10</td>\n",
       "    </tr>\n",
       "    <tr>\n",
       "      <th>10</th>\n",
       "      <td>5.6</td>\n",
       "      <td>0.615</td>\n",
       "      <td>0.00</td>\n",
       "      <td>1.6</td>\n",
       "      <td>0.089</td>\n",
       "      <td>16.0</td>\n",
       "      <td>59.0</td>\n",
       "      <td>0.9943</td>\n",
       "      <td>3.58</td>\n",
       "      <td>0.52</td>\n",
       "      <td>9.9</td>\n",
       "      <td>0</td>\n",
       "      <td>12</td>\n",
       "    </tr>\n",
       "    <tr>\n",
       "      <th>11</th>\n",
       "      <td>7.8</td>\n",
       "      <td>0.610</td>\n",
       "      <td>0.29</td>\n",
       "      <td>1.6</td>\n",
       "      <td>0.114</td>\n",
       "      <td>9.0</td>\n",
       "      <td>29.0</td>\n",
       "      <td>0.9974</td>\n",
       "      <td>3.26</td>\n",
       "      <td>1.56</td>\n",
       "      <td>9.1</td>\n",
       "      <td>0</td>\n",
       "      <td>13</td>\n",
       "    </tr>\n",
       "    <tr>\n",
       "      <th>12</th>\n",
       "      <td>8.5</td>\n",
       "      <td>0.280</td>\n",
       "      <td>0.56</td>\n",
       "      <td>1.8</td>\n",
       "      <td>0.092</td>\n",
       "      <td>35.0</td>\n",
       "      <td>103.0</td>\n",
       "      <td>0.9969</td>\n",
       "      <td>3.30</td>\n",
       "      <td>0.75</td>\n",
       "      <td>10.5</td>\n",
       "      <td>1</td>\n",
       "      <td>16</td>\n",
       "    </tr>\n",
       "    <tr>\n",
       "      <th>13</th>\n",
       "      <td>7.9</td>\n",
       "      <td>0.320</td>\n",
       "      <td>0.51</td>\n",
       "      <td>1.8</td>\n",
       "      <td>0.341</td>\n",
       "      <td>17.0</td>\n",
       "      <td>56.0</td>\n",
       "      <td>0.9969</td>\n",
       "      <td>3.04</td>\n",
       "      <td>1.08</td>\n",
       "      <td>9.2</td>\n",
       "      <td>0</td>\n",
       "      <td>19</td>\n",
       "    </tr>\n",
       "    <tr>\n",
       "      <th>14</th>\n",
       "      <td>7.6</td>\n",
       "      <td>0.390</td>\n",
       "      <td>0.31</td>\n",
       "      <td>2.3</td>\n",
       "      <td>0.082</td>\n",
       "      <td>23.0</td>\n",
       "      <td>71.0</td>\n",
       "      <td>0.9982</td>\n",
       "      <td>3.52</td>\n",
       "      <td>0.65</td>\n",
       "      <td>9.7</td>\n",
       "      <td>0</td>\n",
       "      <td>21</td>\n",
       "    </tr>\n",
       "    <tr>\n",
       "      <th>15</th>\n",
       "      <td>7.9</td>\n",
       "      <td>0.430</td>\n",
       "      <td>0.21</td>\n",
       "      <td>1.6</td>\n",
       "      <td>0.106</td>\n",
       "      <td>10.0</td>\n",
       "      <td>37.0</td>\n",
       "      <td>0.9966</td>\n",
       "      <td>3.17</td>\n",
       "      <td>0.91</td>\n",
       "      <td>9.5</td>\n",
       "      <td>0</td>\n",
       "      <td>22</td>\n",
       "    </tr>\n",
       "    <tr>\n",
       "      <th>16</th>\n",
       "      <td>8.5</td>\n",
       "      <td>0.490</td>\n",
       "      <td>0.11</td>\n",
       "      <td>2.3</td>\n",
       "      <td>0.084</td>\n",
       "      <td>9.0</td>\n",
       "      <td>67.0</td>\n",
       "      <td>0.9968</td>\n",
       "      <td>3.17</td>\n",
       "      <td>0.53</td>\n",
       "      <td>9.4</td>\n",
       "      <td>0</td>\n",
       "      <td>23</td>\n",
       "    </tr>\n",
       "    <tr>\n",
       "      <th>17</th>\n",
       "      <td>6.9</td>\n",
       "      <td>0.400</td>\n",
       "      <td>0.14</td>\n",
       "      <td>2.4</td>\n",
       "      <td>0.085</td>\n",
       "      <td>21.0</td>\n",
       "      <td>40.0</td>\n",
       "      <td>0.9968</td>\n",
       "      <td>3.43</td>\n",
       "      <td>0.63</td>\n",
       "      <td>9.7</td>\n",
       "      <td>0</td>\n",
       "      <td>24</td>\n",
       "    </tr>\n",
       "    <tr>\n",
       "      <th>18</th>\n",
       "      <td>6.3</td>\n",
       "      <td>0.390</td>\n",
       "      <td>0.16</td>\n",
       "      <td>1.4</td>\n",
       "      <td>0.080</td>\n",
       "      <td>11.0</td>\n",
       "      <td>23.0</td>\n",
       "      <td>0.9955</td>\n",
       "      <td>3.34</td>\n",
       "      <td>0.56</td>\n",
       "      <td>9.3</td>\n",
       "      <td>0</td>\n",
       "      <td>25</td>\n",
       "    </tr>\n",
       "    <tr>\n",
       "      <th>19</th>\n",
       "      <td>7.6</td>\n",
       "      <td>0.410</td>\n",
       "      <td>0.24</td>\n",
       "      <td>1.8</td>\n",
       "      <td>0.080</td>\n",
       "      <td>4.0</td>\n",
       "      <td>11.0</td>\n",
       "      <td>0.9962</td>\n",
       "      <td>3.28</td>\n",
       "      <td>0.59</td>\n",
       "      <td>9.5</td>\n",
       "      <td>0</td>\n",
       "      <td>26</td>\n",
       "    </tr>\n",
       "  </tbody>\n",
       "</table>\n",
       "</div>"
      ],
      "text/plain": [
       "    fixed acidity  volatile acidity  citric acid  residual sugar  chlorides  \\\n",
       "0             7.4             0.700         0.00             1.9      0.076   \n",
       "1             7.8             0.880         0.00             2.6      0.098   \n",
       "2             7.8             0.760         0.04             2.3      0.092   \n",
       "3            11.2             0.280         0.56             1.9      0.075   \n",
       "4             7.4             0.700         0.00             1.9      0.076   \n",
       "5             7.4             0.660         0.00             1.8      0.075   \n",
       "6             7.9             0.600         0.06             1.6      0.069   \n",
       "7             7.3             0.650         0.00             1.2      0.065   \n",
       "8             7.8             0.580         0.02             2.0      0.073   \n",
       "9             6.7             0.580         0.08             1.8      0.097   \n",
       "10            5.6             0.615         0.00             1.6      0.089   \n",
       "11            7.8             0.610         0.29             1.6      0.114   \n",
       "12            8.5             0.280         0.56             1.8      0.092   \n",
       "13            7.9             0.320         0.51             1.8      0.341   \n",
       "14            7.6             0.390         0.31             2.3      0.082   \n",
       "15            7.9             0.430         0.21             1.6      0.106   \n",
       "16            8.5             0.490         0.11             2.3      0.084   \n",
       "17            6.9             0.400         0.14             2.4      0.085   \n",
       "18            6.3             0.390         0.16             1.4      0.080   \n",
       "19            7.6             0.410         0.24             1.8      0.080   \n",
       "\n",
       "    free sulfur dioxide  total sulfur dioxide  density    pH  sulphates  \\\n",
       "0                  11.0                  34.0   0.9978  3.51       0.56   \n",
       "1                  25.0                  67.0   0.9968  3.20       0.68   \n",
       "2                  15.0                  54.0   0.9970  3.26       0.65   \n",
       "3                  17.0                  60.0   0.9980  3.16       0.58   \n",
       "4                  11.0                  34.0   0.9978  3.51       0.56   \n",
       "5                  13.0                  40.0   0.9978  3.51       0.56   \n",
       "6                  15.0                  59.0   0.9964  3.30       0.46   \n",
       "7                  15.0                  21.0   0.9946  3.39       0.47   \n",
       "8                   9.0                  18.0   0.9968  3.36       0.57   \n",
       "9                  15.0                  65.0   0.9959  3.28       0.54   \n",
       "10                 16.0                  59.0   0.9943  3.58       0.52   \n",
       "11                  9.0                  29.0   0.9974  3.26       1.56   \n",
       "12                 35.0                 103.0   0.9969  3.30       0.75   \n",
       "13                 17.0                  56.0   0.9969  3.04       1.08   \n",
       "14                 23.0                  71.0   0.9982  3.52       0.65   \n",
       "15                 10.0                  37.0   0.9966  3.17       0.91   \n",
       "16                  9.0                  67.0   0.9968  3.17       0.53   \n",
       "17                 21.0                  40.0   0.9968  3.43       0.63   \n",
       "18                 11.0                  23.0   0.9955  3.34       0.56   \n",
       "19                  4.0                  11.0   0.9962  3.28       0.59   \n",
       "\n",
       "    alcohol  quality  Id  \n",
       "0       9.4        0   0  \n",
       "1       9.8        0   1  \n",
       "2       9.8        0   2  \n",
       "3       9.8        0   3  \n",
       "4       9.4        0   4  \n",
       "5       9.4        0   5  \n",
       "6       9.4        0   6  \n",
       "7      10.0        1   7  \n",
       "8       9.5        1   8  \n",
       "9       9.2        0  10  \n",
       "10      9.9        0  12  \n",
       "11      9.1        0  13  \n",
       "12     10.5        1  16  \n",
       "13      9.2        0  19  \n",
       "14      9.7        0  21  \n",
       "15      9.5        0  22  \n",
       "16      9.4        0  23  \n",
       "17      9.7        0  24  \n",
       "18      9.3        0  25  \n",
       "19      9.5        0  26  "
      ]
     },
     "execution_count": 96,
     "metadata": {},
     "output_type": "execute_result"
    }
   ],
   "source": [
    "wine.head(20)"
   ]
  },
  {
   "cell_type": "code",
   "execution_count": 97,
   "id": "6b6b3776-3c6e-4943-88fb-965ef8d7f38d",
   "metadata": {
    "execution": {
     "iopub.execute_input": "2025-06-16T15:33:55.741765Z",
     "iopub.status.busy": "2025-06-16T15:33:55.741502Z",
     "iopub.status.idle": "2025-06-16T15:33:55.746862Z",
     "shell.execute_reply": "2025-06-16T15:33:55.746373Z",
     "shell.execute_reply.started": "2025-06-16T15:33:55.741747Z"
    }
   },
   "outputs": [
    {
     "data": {
      "text/plain": [
       "quality\n",
       "0    984\n",
       "1    159\n",
       "Name: count, dtype: int64"
      ]
     },
     "execution_count": 97,
     "metadata": {},
     "output_type": "execute_result"
    }
   ],
   "source": [
    "wine['quality'].value_counts()"
   ]
  },
  {
   "cell_type": "code",
   "execution_count": 98,
   "id": "7a40a222-4abd-4047-9ea5-3269fde98826",
   "metadata": {
    "execution": {
     "iopub.execute_input": "2025-06-16T15:33:55.887151Z",
     "iopub.status.busy": "2025-06-16T15:33:55.886871Z",
     "iopub.status.idle": "2025-06-16T15:33:56.055186Z",
     "shell.execute_reply": "2025-06-16T15:33:56.054679Z",
     "shell.execute_reply.started": "2025-06-16T15:33:55.887127Z"
    }
   },
   "outputs": [
    {
     "data": {
      "text/plain": [
       "<Axes: ylabel='count'>"
      ]
     },
     "execution_count": 98,
     "metadata": {},
     "output_type": "execute_result"
    },
    {
     "data": {
      "image/png": "[encoded data removed]",
      "text/plain": [
       "<Figure size 640x480 with 1 Axes>"
      ]
     },
     "metadata": {},
     "output_type": "display_data"
    }
   ],
   "source": [
    "sns.countplot(wine['quality'])"
   ]
  },
  {
   "cell_type": "code",
   "execution_count": 99,
   "id": "16d88103-bbe3-4662-b62c-e1c005a80872",
   "metadata": {
    "execution": {
     "iopub.execute_input": "2025-06-16T15:33:56.070701Z",
     "iopub.status.busy": "2025-06-16T15:33:56.070443Z",
     "iopub.status.idle": "2025-06-16T15:33:56.075460Z",
     "shell.execute_reply": "2025-06-16T15:33:56.074774Z",
     "shell.execute_reply.started": "2025-06-16T15:33:56.070682Z"
    }
   },
   "outputs": [],
   "source": [
    "# splitting the dataset \n",
    "X= wine.drop('quality', axis = 1)\n",
    "y= wine['quality']"
   ]
  },
  {
   "cell_type": "code",
   "execution_count": 100,
   "id": "c40ef0ec-07a7-420e-8d9d-546e5ccbf5ed",
   "metadata": {
    "execution": {
     "iopub.execute_input": "2025-06-16T15:33:56.105121Z",
     "iopub.status.busy": "2025-06-16T15:33:56.104858Z",
     "iopub.status.idle": "2025-06-16T15:33:56.115126Z",
     "shell.execute_reply": "2025-06-16T15:33:56.114219Z",
     "shell.execute_reply.started": "2025-06-16T15:33:56.105102Z"
    }
   },
   "outputs": [],
   "source": [
    "X_train, X_test, y_train,y_test = train_test_split(X,y,test_size=0.2, random_state=42)"
   ]
  },
  {
   "cell_type": "code",
   "execution_count": 101,
   "id": "50675825-e33f-407d-8d34-1292031a248d",
   "metadata": {
    "execution": {
     "iopub.execute_input": "2025-06-16T15:33:56.251368Z",
     "iopub.status.busy": "2025-06-16T15:33:56.251043Z",
     "iopub.status.idle": "2025-06-16T15:33:56.261433Z",
     "shell.execute_reply": "2025-06-16T15:33:56.260619Z",
     "shell.execute_reply.started": "2025-06-16T15:33:56.251346Z"
    }
   },
   "outputs": [],
   "source": [
    "#scalling the data\n",
    "sc= StandardScaler()\n",
    "X_train= sc.fit_transform(X_train)\n",
    "X_test= sc.transform(X_test)"
   ]
  },
  {
   "cell_type": "code",
   "execution_count": 102,
   "id": "b69e065b-b9d7-49b1-8879-7ce39f0b3dfd",
   "metadata": {
    "execution": {
     "iopub.execute_input": "2025-06-16T15:33:56.452002Z",
     "iopub.status.busy": "2025-06-16T15:33:56.451663Z",
     "iopub.status.idle": "2025-06-16T15:33:56.468554Z",
     "shell.execute_reply": "2025-06-16T15:33:56.467928Z",
     "shell.execute_reply.started": "2025-06-16T15:33:56.451973Z"
    }
   },
   "outputs": [
    {
     "data": {
      "text/html": [
       "<div>\n",
       "<style scoped>\n",
       "    .dataframe tbody tr th:only-of-type {\n",
       "        vertical-align: middle;\n",
       "    }\n",
       "\n",
       "    .dataframe tbody tr th {\n",
       "        vertical-align: top;\n",
       "    }\n",
       "\n",
       "    .dataframe thead th {\n",
       "        text-align: right;\n",
       "    }\n",
       "</style>\n",
       "<table border=\"1\" class=\"dataframe\">\n",
       "  <thead>\n",
       "    <tr style=\"text-align: right;\">\n",
       "      <th></th>\n",
       "      <th>fixed acidity</th>\n",
       "      <th>volatile acidity</th>\n",
       "      <th>citric acid</th>\n",
       "      <th>residual sugar</th>\n",
       "      <th>chlorides</th>\n",
       "      <th>free sulfur dioxide</th>\n",
       "      <th>total sulfur dioxide</th>\n",
       "      <th>density</th>\n",
       "      <th>pH</th>\n",
       "      <th>sulphates</th>\n",
       "      <th>alcohol</th>\n",
       "      <th>Id</th>\n",
       "    </tr>\n",
       "  </thead>\n",
       "  <tbody>\n",
       "    <tr>\n",
       "      <th>0</th>\n",
       "      <td>7.4</td>\n",
       "      <td>0.70</td>\n",
       "      <td>0.00</td>\n",
       "      <td>1.9</td>\n",
       "      <td>0.076</td>\n",
       "      <td>11.0</td>\n",
       "      <td>34.0</td>\n",
       "      <td>0.9978</td>\n",
       "      <td>3.51</td>\n",
       "      <td>0.56</td>\n",
       "      <td>9.4</td>\n",
       "      <td>0</td>\n",
       "    </tr>\n",
       "    <tr>\n",
       "      <th>1</th>\n",
       "      <td>7.8</td>\n",
       "      <td>0.88</td>\n",
       "      <td>0.00</td>\n",
       "      <td>2.6</td>\n",
       "      <td>0.098</td>\n",
       "      <td>25.0</td>\n",
       "      <td>67.0</td>\n",
       "      <td>0.9968</td>\n",
       "      <td>3.20</td>\n",
       "      <td>0.68</td>\n",
       "      <td>9.8</td>\n",
       "      <td>1</td>\n",
       "    </tr>\n",
       "    <tr>\n",
       "      <th>2</th>\n",
       "      <td>7.8</td>\n",
       "      <td>0.76</td>\n",
       "      <td>0.04</td>\n",
       "      <td>2.3</td>\n",
       "      <td>0.092</td>\n",
       "      <td>15.0</td>\n",
       "      <td>54.0</td>\n",
       "      <td>0.9970</td>\n",
       "      <td>3.26</td>\n",
       "      <td>0.65</td>\n",
       "      <td>9.8</td>\n",
       "      <td>2</td>\n",
       "    </tr>\n",
       "    <tr>\n",
       "      <th>3</th>\n",
       "      <td>11.2</td>\n",
       "      <td>0.28</td>\n",
       "      <td>0.56</td>\n",
       "      <td>1.9</td>\n",
       "      <td>0.075</td>\n",
       "      <td>17.0</td>\n",
       "      <td>60.0</td>\n",
       "      <td>0.9980</td>\n",
       "      <td>3.16</td>\n",
       "      <td>0.58</td>\n",
       "      <td>9.8</td>\n",
       "      <td>3</td>\n",
       "    </tr>\n",
       "    <tr>\n",
       "      <th>4</th>\n",
       "      <td>7.4</td>\n",
       "      <td>0.70</td>\n",
       "      <td>0.00</td>\n",
       "      <td>1.9</td>\n",
       "      <td>0.076</td>\n",
       "      <td>11.0</td>\n",
       "      <td>34.0</td>\n",
       "      <td>0.9978</td>\n",
       "      <td>3.51</td>\n",
       "      <td>0.56</td>\n",
       "      <td>9.4</td>\n",
       "      <td>4</td>\n",
       "    </tr>\n",
       "  </tbody>\n",
       "</table>\n",
       "</div>"
      ],
      "text/plain": [
       "   fixed acidity  volatile acidity  citric acid  residual sugar  chlorides  \\\n",
       "0            7.4              0.70         0.00             1.9      0.076   \n",
       "1            7.8              0.88         0.00             2.6      0.098   \n",
       "2            7.8              0.76         0.04             2.3      0.092   \n",
       "3           11.2              0.28         0.56             1.9      0.075   \n",
       "4            7.4              0.70         0.00             1.9      0.076   \n",
       "\n",
       "   free sulfur dioxide  total sulfur dioxide  density    pH  sulphates  \\\n",
       "0                 11.0                  34.0   0.9978  3.51       0.56   \n",
       "1                 25.0                  67.0   0.9968  3.20       0.68   \n",
       "2                 15.0                  54.0   0.9970  3.26       0.65   \n",
       "3                 17.0                  60.0   0.9980  3.16       0.58   \n",
       "4                 11.0                  34.0   0.9978  3.51       0.56   \n",
       "\n",
       "   alcohol  Id  \n",
       "0      9.4   0  \n",
       "1      9.8   1  \n",
       "2      9.8   2  \n",
       "3      9.8   3  \n",
       "4      9.4   4  "
      ]
     },
     "execution_count": 102,
     "metadata": {},
     "output_type": "execute_result"
    }
   ],
   "source": [
    "X.head()"
   ]
  },
  {
   "cell_type": "code",
   "execution_count": 103,
   "id": "3a17a5dc-e8ce-422c-bbdd-0b69d1b7e2aa",
   "metadata": {
    "execution": {
     "iopub.execute_input": "2025-06-16T15:33:56.618823Z",
     "iopub.status.busy": "2025-06-16T15:33:56.618533Z",
     "iopub.status.idle": "2025-06-16T15:33:56.621818Z",
     "shell.execute_reply": "2025-06-16T15:33:56.621215Z",
     "shell.execute_reply.started": "2025-06-16T15:33:56.618802Z"
    }
   },
   "outputs": [],
   "source": [
    "#Randome forest classifier"
   ]
  },
  {
   "cell_type": "code",
   "execution_count": 104,
   "id": "4997f5c0-7aea-40d0-ad43-d6a261f8aa0f",
   "metadata": {
    "execution": {
     "iopub.execute_input": "2025-06-16T15:33:56.751822Z",
     "iopub.status.busy": "2025-06-16T15:33:56.751525Z",
     "iopub.status.idle": "2025-06-16T15:33:57.285780Z",
     "shell.execute_reply": "2025-06-16T15:33:57.285116Z",
     "shell.execute_reply.started": "2025-06-16T15:33:56.751797Z"
    }
   },
   "outputs": [],
   "source": [
    "rfc= RandomForestClassifier(n_estimators=200)\n",
    "rfc.fit(X_train,y_train)\n",
    "rfc_pred= rfc.predict(X_test)"
   ]
  },
  {
   "cell_type": "code",
   "execution_count": 105,
   "id": "7911fa98-e09f-473c-aa6f-6b6e9cc80a2e",
   "metadata": {
    "execution": {
     "iopub.execute_input": "2025-06-16T15:33:57.302792Z",
     "iopub.status.busy": "2025-06-16T15:33:57.302537Z",
     "iopub.status.idle": "2025-06-16T15:33:57.322722Z",
     "shell.execute_reply": "2025-06-16T15:33:57.322084Z",
     "shell.execute_reply.started": "2025-06-16T15:33:57.302766Z"
    }
   },
   "outputs": [
    {
     "name": "stdout",
     "output_type": "stream",
     "text": [
      "              precision    recall  f1-score   support\n",
      "\n",
      "           0       0.94      0.97      0.96       201\n",
      "           1       0.73      0.57      0.64        28\n",
      "\n",
      "    accuracy                           0.92       229\n",
      "   macro avg       0.83      0.77      0.80       229\n",
      "weighted avg       0.92      0.92      0.92       229\n",
      "\n",
      "[[195   6]\n",
      " [ 12  16]]\n"
     ]
    }
   ],
   "source": [
    "print(classification_report(y_test, rfc_pred))\n",
    "print(confusion_matrix(y_test, rfc_pred))"
   ]
  },
  {
   "cell_type": "markdown",
   "id": "1463b056-5f68-4621-8cfc-5b8463f3685f",
   "metadata": {},
   "source": [
    "#svn classifier"
   ]
  },
  {
   "cell_type": "code",
   "execution_count": 106,
   "id": "d3b55f9c-ecdd-4c7b-b929-491c647572ff",
   "metadata": {
    "execution": {
     "iopub.execute_input": "2025-06-16T15:33:57.356491Z",
     "iopub.status.busy": "2025-06-16T15:33:57.356191Z",
     "iopub.status.idle": "2025-06-16T15:33:57.386653Z",
     "shell.execute_reply": "2025-06-16T15:33:57.385888Z",
     "shell.execute_reply.started": "2025-06-16T15:33:57.356469Z"
    }
   },
   "outputs": [],
   "source": [
    "clf= svm.SVC()\n",
    "clf.fit(X_train,y_train)\n",
    "clf_pred= clf.predict(X_test)"
   ]
  },
  {
   "cell_type": "code",
   "execution_count": 107,
   "id": "06a9bde9-0c2f-47b3-8996-3f93e7199087",
   "metadata": {
    "execution": {
     "iopub.execute_input": "2025-06-16T15:33:57.422374Z",
     "iopub.status.busy": "2025-06-16T15:33:57.421859Z",
     "iopub.status.idle": "2025-06-16T15:33:57.435450Z",
     "shell.execute_reply": "2025-06-16T15:33:57.434864Z",
     "shell.execute_reply.started": "2025-06-16T15:33:57.422354Z"
    }
   },
   "outputs": [
    {
     "name": "stdout",
     "output_type": "stream",
     "text": [
      "              precision    recall  f1-score   support\n",
      "\n",
      "           0       0.91      0.98      0.94       201\n",
      "           1       0.69      0.32      0.44        28\n",
      "\n",
      "    accuracy                           0.90       229\n",
      "   macro avg       0.80      0.65      0.69       229\n",
      "weighted avg       0.89      0.90      0.88       229\n",
      "\n",
      "[[197   4]\n",
      " [ 19   9]]\n"
     ]
    }
   ],
   "source": [
    "print(classification_report(y_test,clf_pred))\n",
    "print(confusion_matrix(y_test,clf_pred))"
   ]
  },
  {
   "cell_type": "markdown",
   "id": "c68b053e-31e8-4f0e-95ca-a0a747fb94cc",
   "metadata": {},
   "source": [
    "#neural naetwork"
   ]
  },
  {
   "cell_type": "code",
   "execution_count": 108,
   "id": "4ceeebaa-d7d1-4cb9-90bd-b2b5c76c87c4",
   "metadata": {
    "execution": {
     "iopub.execute_input": "2025-06-16T15:33:57.536946Z",
     "iopub.status.busy": "2025-06-16T15:33:57.536665Z",
     "iopub.status.idle": "2025-06-16T15:34:02.681338Z",
     "shell.execute_reply": "2025-06-16T15:34:02.680730Z",
     "shell.execute_reply.started": "2025-06-16T15:33:57.536918Z"
    }
   },
   "outputs": [],
   "source": [
    "mlpc= MLPClassifier(hidden_layer_sizes= (11,11,11),max_iter=1500)\n",
    "mlpc.fit(X_train,y_train)\n",
    "pred_mlpc =mlpc.predict(X_test)"
   ]
  },
  {
   "cell_type": "code",
   "execution_count": 109,
   "id": "86efbd3e-9813-4fd0-b4cd-08c8d5774b0e",
   "metadata": {
    "execution": {
     "iopub.execute_input": "2025-06-16T15:34:02.702375Z",
     "iopub.status.busy": "2025-06-16T15:34:02.701951Z",
     "iopub.status.idle": "2025-06-16T15:34:02.723633Z",
     "shell.execute_reply": "2025-06-16T15:34:02.722614Z",
     "shell.execute_reply.started": "2025-06-16T15:34:02.702352Z"
    }
   },
   "outputs": [
    {
     "name": "stdout",
     "output_type": "stream",
     "text": [
      "              precision    recall  f1-score   support\n",
      "\n",
      "           0       0.93      0.88      0.90       201\n",
      "           1       0.38      0.54      0.44        28\n",
      "\n",
      "    accuracy                           0.83       229\n",
      "   macro avg       0.65      0.71      0.67       229\n",
      "weighted avg       0.86      0.83      0.85       229\n",
      "\n",
      "[[176  25]\n",
      " [ 13  15]]\n"
     ]
    }
   ],
   "source": [
    "print(classification_report(y_test,pred_mlpc))\n",
    "print(confusion_matrix(y_test, pred_mlpc))"
   ]
  },
  {
   "cell_type": "code",
   "execution_count": 116,
   "id": "d2e300b7-a34f-4654-ad93-5e7d6a0121a0",
   "metadata": {
    "execution": {
     "iopub.execute_input": "2025-06-16T15:38:06.233851Z",
     "iopub.status.busy": "2025-06-16T15:38:06.233598Z",
     "iopub.status.idle": "2025-06-16T15:38:06.239422Z",
     "shell.execute_reply": "2025-06-16T15:38:06.238833Z",
     "shell.execute_reply.started": "2025-06-16T15:38:06.233834Z"
    }
   },
   "outputs": [
    {
     "data": {
      "text/plain": [
       "0.9213973799126638"
      ]
     },
     "execution_count": 116,
     "metadata": {},
     "output_type": "execute_result"
    }
   ],
   "source": [
    "from sklearn.metrics import accuracy_score\n",
    "cm = accuracy_score(y_test, rfc_pred)\n",
    "cm\n"
   ]
  },
  {
   "cell_type": "code",
   "execution_count": 128,
   "id": "07d971ed-e9d6-474a-acc2-bf79a38d27a5",
   "metadata": {
    "execution": {
     "iopub.execute_input": "2025-06-16T15:44:36.625588Z",
     "iopub.status.busy": "2025-06-16T15:44:36.625379Z",
     "iopub.status.idle": "2025-06-16T15:44:36.639127Z",
     "shell.execute_reply": "2025-06-16T15:44:36.638565Z",
     "shell.execute_reply.started": "2025-06-16T15:44:36.625573Z"
    }
   },
   "outputs": [
    {
     "data": {
      "text/html": [
       "<div>\n",
       "<style scoped>\n",
       "    .dataframe tbody tr th:only-of-type {\n",
       "        vertical-align: middle;\n",
       "    }\n",
       "\n",
       "    .dataframe tbody tr th {\n",
       "        vertical-align: top;\n",
       "    }\n",
       "\n",
       "    .dataframe thead th {\n",
       "        text-align: right;\n",
       "    }\n",
       "</style>\n",
       "<table border=\"1\" class=\"dataframe\">\n",
       "  <thead>\n",
       "    <tr style=\"text-align: right;\">\n",
       "      <th></th>\n",
       "      <th>fixed acidity</th>\n",
       "      <th>volatile acidity</th>\n",
       "      <th>citric acid</th>\n",
       "      <th>residual sugar</th>\n",
       "      <th>chlorides</th>\n",
       "      <th>free sulfur dioxide</th>\n",
       "      <th>total sulfur dioxide</th>\n",
       "      <th>density</th>\n",
       "      <th>pH</th>\n",
       "      <th>sulphates</th>\n",
       "      <th>alcohol</th>\n",
       "      <th>quality</th>\n",
       "      <th>Id</th>\n",
       "    </tr>\n",
       "  </thead>\n",
       "  <tbody>\n",
       "    <tr>\n",
       "      <th>0</th>\n",
       "      <td>7.4</td>\n",
       "      <td>0.70</td>\n",
       "      <td>0.00</td>\n",
       "      <td>1.9</td>\n",
       "      <td>0.076</td>\n",
       "      <td>11.0</td>\n",
       "      <td>34.0</td>\n",
       "      <td>0.9978</td>\n",
       "      <td>3.51</td>\n",
       "      <td>0.56</td>\n",
       "      <td>9.4</td>\n",
       "      <td>0</td>\n",
       "      <td>0</td>\n",
       "    </tr>\n",
       "    <tr>\n",
       "      <th>1</th>\n",
       "      <td>7.8</td>\n",
       "      <td>0.88</td>\n",
       "      <td>0.00</td>\n",
       "      <td>2.6</td>\n",
       "      <td>0.098</td>\n",
       "      <td>25.0</td>\n",
       "      <td>67.0</td>\n",
       "      <td>0.9968</td>\n",
       "      <td>3.20</td>\n",
       "      <td>0.68</td>\n",
       "      <td>9.8</td>\n",
       "      <td>0</td>\n",
       "      <td>1</td>\n",
       "    </tr>\n",
       "    <tr>\n",
       "      <th>2</th>\n",
       "      <td>7.8</td>\n",
       "      <td>0.76</td>\n",
       "      <td>0.04</td>\n",
       "      <td>2.3</td>\n",
       "      <td>0.092</td>\n",
       "      <td>15.0</td>\n",
       "      <td>54.0</td>\n",
       "      <td>0.9970</td>\n",
       "      <td>3.26</td>\n",
       "      <td>0.65</td>\n",
       "      <td>9.8</td>\n",
       "      <td>0</td>\n",
       "      <td>2</td>\n",
       "    </tr>\n",
       "    <tr>\n",
       "      <th>3</th>\n",
       "      <td>11.2</td>\n",
       "      <td>0.28</td>\n",
       "      <td>0.56</td>\n",
       "      <td>1.9</td>\n",
       "      <td>0.075</td>\n",
       "      <td>17.0</td>\n",
       "      <td>60.0</td>\n",
       "      <td>0.9980</td>\n",
       "      <td>3.16</td>\n",
       "      <td>0.58</td>\n",
       "      <td>9.8</td>\n",
       "      <td>0</td>\n",
       "      <td>3</td>\n",
       "    </tr>\n",
       "    <tr>\n",
       "      <th>4</th>\n",
       "      <td>7.4</td>\n",
       "      <td>0.70</td>\n",
       "      <td>0.00</td>\n",
       "      <td>1.9</td>\n",
       "      <td>0.076</td>\n",
       "      <td>11.0</td>\n",
       "      <td>34.0</td>\n",
       "      <td>0.9978</td>\n",
       "      <td>3.51</td>\n",
       "      <td>0.56</td>\n",
       "      <td>9.4</td>\n",
       "      <td>0</td>\n",
       "      <td>4</td>\n",
       "    </tr>\n",
       "  </tbody>\n",
       "</table>\n",
       "</div>"
      ],
      "text/plain": [
       "   fixed acidity  volatile acidity  citric acid  residual sugar  chlorides  \\\n",
       "0            7.4              0.70         0.00             1.9      0.076   \n",
       "1            7.8              0.88         0.00             2.6      0.098   \n",
       "2            7.8              0.76         0.04             2.3      0.092   \n",
       "3           11.2              0.28         0.56             1.9      0.075   \n",
       "4            7.4              0.70         0.00             1.9      0.076   \n",
       "\n",
       "   free sulfur dioxide  total sulfur dioxide  density    pH  sulphates  \\\n",
       "0                 11.0                  34.0   0.9978  3.51       0.56   \n",
       "1                 25.0                  67.0   0.9968  3.20       0.68   \n",
       "2                 15.0                  54.0   0.9970  3.26       0.65   \n",
       "3                 17.0                  60.0   0.9980  3.16       0.58   \n",
       "4                 11.0                  34.0   0.9978  3.51       0.56   \n",
       "\n",
       "   alcohol  quality  Id  \n",
       "0      9.4        0   0  \n",
       "1      9.8        0   1  \n",
       "2      9.8        0   2  \n",
       "3      9.8        0   3  \n",
       "4      9.4        0   4  "
      ]
     },
     "execution_count": 128,
     "metadata": {},
     "output_type": "execute_result"
    }
   ],
   "source": [
    "wine.head()\n",
    "\n"
   ]
  },
  {
   "cell_type": "code",
   "execution_count": 139,
   "id": "71204e56-6950-489c-acba-0f7a1b1d85a2",
   "metadata": {
    "execution": {
     "iopub.execute_input": "2025-06-16T15:53:41.036872Z",
     "iopub.status.busy": "2025-06-16T15:53:41.036652Z",
     "iopub.status.idle": "2025-06-16T15:53:41.039895Z",
     "shell.execute_reply": "2025-06-16T15:53:41.039371Z",
     "shell.execute_reply.started": "2025-06-16T15:53:41.036855Z"
    }
   },
   "outputs": [],
   "source": [
    "Xnew=[[7.4,0.70,0.00,1.9,0.076,11.0,34.0,0.9978,3.51,0.56,9.4,1]]\t"
   ]
  },
  {
   "cell_type": "code",
   "execution_count": 140,
   "id": "77a204aa-9d66-4799-9285-f3bdce7e0bd8",
   "metadata": {
    "execution": {
     "iopub.execute_input": "2025-06-16T15:53:42.115879Z",
     "iopub.status.busy": "2025-06-16T15:53:42.115612Z",
     "iopub.status.idle": "2025-06-16T15:53:42.119414Z",
     "shell.execute_reply": "2025-06-16T15:53:42.118914Z",
     "shell.execute_reply.started": "2025-06-16T15:53:42.115855Z"
    }
   },
   "outputs": [
    {
     "name": "stderr",
     "output_type": "stream",
     "text": [
      "/opt/conda/envs/anaconda-panel-2023.05-py310/lib/python3.11/site-packages/sklearn/base.py:464: UserWarning: X does not have valid feature names, but StandardScaler was fitted with feature names\n",
      "  warnings.warn(\n"
     ]
    }
   ],
   "source": [
    "Xnew= sc.transform(Xnew)"
   ]
  },
  {
   "cell_type": "code",
   "execution_count": 141,
   "id": "3531d16b-fbb6-42e5-b041-1c5ddc4f04ab",
   "metadata": {
    "execution": {
     "iopub.execute_input": "2025-06-16T15:53:43.481717Z",
     "iopub.status.busy": "2025-06-16T15:53:43.481493Z",
     "iopub.status.idle": "2025-06-16T15:53:43.506457Z",
     "shell.execute_reply": "2025-06-16T15:53:43.505744Z",
     "shell.execute_reply.started": "2025-06-16T15:53:43.481700Z"
    }
   },
   "outputs": [
    {
     "data": {
      "text/plain": [
       "array([0])"
      ]
     },
     "execution_count": 141,
     "metadata": {},
     "output_type": "execute_result"
    }
   ],
   "source": [
    "newpred_rfc=rfc.predict(Xnew)\n",
    "newpred_rfc"
   ]
  },
  {
   "cell_type": "code",
   "execution_count": null,
   "id": "a87e4846-832f-4870-95a9-44fe78634a44",
   "metadata": {},
   "outputs": [],
   "source": []
  }
 ],
 "metadata": {
  "kernelspec": {
   "display_name": "anaconda-panel-2023.05-py310",
   "language": "python",
   "name": "conda-env-anaconda-panel-2023.05-py310-py"
  },
  "language_info": {
   "codemirror_mode": {
    "name": "ipython",
    "version": 3
   },
   "file_extension": ".py",
   "mimetype": "text/x-python",
   "name": "python",
   "nbconvert_exporter": "python",
   "pygments_lexer": "ipython3",
   "version": "3.11.5"
  }
 },
 "nbformat": 4,
 "nbformat_minor": 5
}
